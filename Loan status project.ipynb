{
 "cells": [
  {
   "cell_type": "code",
   "execution_count": 1,
   "metadata": {},
   "outputs": [],
   "source": [
    "#import the necessary libraries\n",
    "import pandas as pd\n",
    "import numpy as np\n",
    "import seaborn as sns\n",
    "import matplotlib.pyplot as plt\n",
    "%matplotlib inline"
   ]
  },
  {
   "cell_type": "code",
   "execution_count": 2,
   "metadata": {},
   "outputs": [],
   "source": [
    "#Reading the data\n",
    "data=pd.read_csv('Loan Status.csv')"
   ]
  },
  {
   "cell_type": "code",
   "execution_count": 3,
   "metadata": {},
   "outputs": [
    {
     "data": {
      "text/html": [
       "<div>\n",
       "<style scoped>\n",
       "    .dataframe tbody tr th:only-of-type {\n",
       "        vertical-align: middle;\n",
       "    }\n",
       "\n",
       "    .dataframe tbody tr th {\n",
       "        vertical-align: top;\n",
       "    }\n",
       "\n",
       "    .dataframe thead th {\n",
       "        text-align: right;\n",
       "    }\n",
       "</style>\n",
       "<table border=\"1\" class=\"dataframe\">\n",
       "  <thead>\n",
       "    <tr style=\"text-align: right;\">\n",
       "      <th></th>\n",
       "      <th>Loan ID</th>\n",
       "      <th>Customer ID</th>\n",
       "      <th>Loan Status</th>\n",
       "      <th>Current Loan Amount</th>\n",
       "      <th>Term</th>\n",
       "      <th>Credit Score</th>\n",
       "      <th>Annual Income</th>\n",
       "      <th>Years in current job</th>\n",
       "      <th>Home Ownership</th>\n",
       "      <th>Purpose</th>\n",
       "      <th>Monthly Debt</th>\n",
       "      <th>Years of Credit History</th>\n",
       "      <th>Months since last delinquent</th>\n",
       "      <th>Number of Open Accounts</th>\n",
       "      <th>Number of Credit Problems</th>\n",
       "      <th>Current Credit Balance</th>\n",
       "      <th>Maximum Open Credit</th>\n",
       "      <th>Bankruptcies</th>\n",
       "      <th>Tax Liens</th>\n",
       "    </tr>\n",
       "  </thead>\n",
       "  <tbody>\n",
       "    <tr>\n",
       "      <th>0</th>\n",
       "      <td>14dd8831-6af5-400b-83ec-68e61888a048</td>\n",
       "      <td>981165ec-3274-42f5-a3b4-d104041a9ca9</td>\n",
       "      <td>Fully Paid</td>\n",
       "      <td>445412.0</td>\n",
       "      <td>Short Term</td>\n",
       "      <td>709.0</td>\n",
       "      <td>1167493.0</td>\n",
       "      <td>8 years</td>\n",
       "      <td>Home Mortgage</td>\n",
       "      <td>Home Improvements</td>\n",
       "      <td>5214.74</td>\n",
       "      <td>17.2</td>\n",
       "      <td>NaN</td>\n",
       "      <td>6.0</td>\n",
       "      <td>1.0</td>\n",
       "      <td>228190.0</td>\n",
       "      <td>416746.0</td>\n",
       "      <td>1.0</td>\n",
       "      <td>0.0</td>\n",
       "    </tr>\n",
       "    <tr>\n",
       "      <th>1</th>\n",
       "      <td>4771cc26-131a-45db-b5aa-537ea4ba5342</td>\n",
       "      <td>2de017a3-2e01-49cb-a581-08169e83be29</td>\n",
       "      <td>Fully Paid</td>\n",
       "      <td>262328.0</td>\n",
       "      <td>Short Term</td>\n",
       "      <td>NaN</td>\n",
       "      <td>NaN</td>\n",
       "      <td>10+ years</td>\n",
       "      <td>Home Mortgage</td>\n",
       "      <td>Debt Consolidation</td>\n",
       "      <td>33295.98</td>\n",
       "      <td>21.1</td>\n",
       "      <td>8.0</td>\n",
       "      <td>35.0</td>\n",
       "      <td>0.0</td>\n",
       "      <td>229976.0</td>\n",
       "      <td>850784.0</td>\n",
       "      <td>0.0</td>\n",
       "      <td>0.0</td>\n",
       "    </tr>\n",
       "    <tr>\n",
       "      <th>2</th>\n",
       "      <td>4eed4e6a-aa2f-4c91-8651-ce984ee8fb26</td>\n",
       "      <td>5efb2b2b-bf11-4dfd-a572-3761a2694725</td>\n",
       "      <td>Fully Paid</td>\n",
       "      <td>99999999.0</td>\n",
       "      <td>Short Term</td>\n",
       "      <td>741.0</td>\n",
       "      <td>2231892.0</td>\n",
       "      <td>8 years</td>\n",
       "      <td>Own Home</td>\n",
       "      <td>Debt Consolidation</td>\n",
       "      <td>29200.53</td>\n",
       "      <td>14.9</td>\n",
       "      <td>29.0</td>\n",
       "      <td>18.0</td>\n",
       "      <td>1.0</td>\n",
       "      <td>297996.0</td>\n",
       "      <td>750090.0</td>\n",
       "      <td>0.0</td>\n",
       "      <td>0.0</td>\n",
       "    </tr>\n",
       "    <tr>\n",
       "      <th>3</th>\n",
       "      <td>77598f7b-32e7-4e3b-a6e5-06ba0d98fe8a</td>\n",
       "      <td>e777faab-98ae-45af-9a86-7ce5b33b1011</td>\n",
       "      <td>Fully Paid</td>\n",
       "      <td>347666.0</td>\n",
       "      <td>Long Term</td>\n",
       "      <td>721.0</td>\n",
       "      <td>806949.0</td>\n",
       "      <td>3 years</td>\n",
       "      <td>Own Home</td>\n",
       "      <td>Debt Consolidation</td>\n",
       "      <td>8741.90</td>\n",
       "      <td>12.0</td>\n",
       "      <td>NaN</td>\n",
       "      <td>9.0</td>\n",
       "      <td>0.0</td>\n",
       "      <td>256329.0</td>\n",
       "      <td>386958.0</td>\n",
       "      <td>0.0</td>\n",
       "      <td>0.0</td>\n",
       "    </tr>\n",
       "    <tr>\n",
       "      <th>4</th>\n",
       "      <td>d4062e70-befa-4995-8643-a0de73938182</td>\n",
       "      <td>81536ad9-5ccf-4eb8-befb-47a4d608658e</td>\n",
       "      <td>Fully Paid</td>\n",
       "      <td>176220.0</td>\n",
       "      <td>Short Term</td>\n",
       "      <td>NaN</td>\n",
       "      <td>NaN</td>\n",
       "      <td>5 years</td>\n",
       "      <td>Rent</td>\n",
       "      <td>Debt Consolidation</td>\n",
       "      <td>20639.70</td>\n",
       "      <td>6.1</td>\n",
       "      <td>NaN</td>\n",
       "      <td>15.0</td>\n",
       "      <td>0.0</td>\n",
       "      <td>253460.0</td>\n",
       "      <td>427174.0</td>\n",
       "      <td>0.0</td>\n",
       "      <td>0.0</td>\n",
       "    </tr>\n",
       "  </tbody>\n",
       "</table>\n",
       "</div>"
      ],
      "text/plain": [
       "                                Loan ID                           Customer ID  \\\n",
       "0  14dd8831-6af5-400b-83ec-68e61888a048  981165ec-3274-42f5-a3b4-d104041a9ca9   \n",
       "1  4771cc26-131a-45db-b5aa-537ea4ba5342  2de017a3-2e01-49cb-a581-08169e83be29   \n",
       "2  4eed4e6a-aa2f-4c91-8651-ce984ee8fb26  5efb2b2b-bf11-4dfd-a572-3761a2694725   \n",
       "3  77598f7b-32e7-4e3b-a6e5-06ba0d98fe8a  e777faab-98ae-45af-9a86-7ce5b33b1011   \n",
       "4  d4062e70-befa-4995-8643-a0de73938182  81536ad9-5ccf-4eb8-befb-47a4d608658e   \n",
       "\n",
       "  Loan Status  Current Loan Amount        Term  Credit Score  Annual Income  \\\n",
       "0  Fully Paid             445412.0  Short Term         709.0      1167493.0   \n",
       "1  Fully Paid             262328.0  Short Term           NaN            NaN   \n",
       "2  Fully Paid           99999999.0  Short Term         741.0      2231892.0   \n",
       "3  Fully Paid             347666.0   Long Term         721.0       806949.0   \n",
       "4  Fully Paid             176220.0  Short Term           NaN            NaN   \n",
       "\n",
       "  Years in current job Home Ownership             Purpose  Monthly Debt  \\\n",
       "0              8 years  Home Mortgage   Home Improvements       5214.74   \n",
       "1            10+ years  Home Mortgage  Debt Consolidation      33295.98   \n",
       "2              8 years       Own Home  Debt Consolidation      29200.53   \n",
       "3              3 years       Own Home  Debt Consolidation       8741.90   \n",
       "4              5 years           Rent  Debt Consolidation      20639.70   \n",
       "\n",
       "   Years of Credit History  Months since last delinquent  \\\n",
       "0                     17.2                           NaN   \n",
       "1                     21.1                           8.0   \n",
       "2                     14.9                          29.0   \n",
       "3                     12.0                           NaN   \n",
       "4                      6.1                           NaN   \n",
       "\n",
       "   Number of Open Accounts  Number of Credit Problems  Current Credit Balance  \\\n",
       "0                      6.0                        1.0                228190.0   \n",
       "1                     35.0                        0.0                229976.0   \n",
       "2                     18.0                        1.0                297996.0   \n",
       "3                      9.0                        0.0                256329.0   \n",
       "4                     15.0                        0.0                253460.0   \n",
       "\n",
       "   Maximum Open Credit  Bankruptcies  Tax Liens  \n",
       "0             416746.0           1.0        0.0  \n",
       "1             850784.0           0.0        0.0  \n",
       "2             750090.0           0.0        0.0  \n",
       "3             386958.0           0.0        0.0  \n",
       "4             427174.0           0.0        0.0  "
      ]
     },
     "execution_count": 3,
     "metadata": {},
     "output_type": "execute_result"
    }
   ],
   "source": [
    "data.head()"
   ]
  },
  {
   "cell_type": "code",
   "execution_count": 4,
   "metadata": {},
   "outputs": [
    {
     "data": {
      "text/html": [
       "<div>\n",
       "<style scoped>\n",
       "    .dataframe tbody tr th:only-of-type {\n",
       "        vertical-align: middle;\n",
       "    }\n",
       "\n",
       "    .dataframe tbody tr th {\n",
       "        vertical-align: top;\n",
       "    }\n",
       "\n",
       "    .dataframe thead th {\n",
       "        text-align: right;\n",
       "    }\n",
       "</style>\n",
       "<table border=\"1\" class=\"dataframe\">\n",
       "  <thead>\n",
       "    <tr style=\"text-align: right;\">\n",
       "      <th></th>\n",
       "      <th>Current Loan Amount</th>\n",
       "      <th>Credit Score</th>\n",
       "      <th>Annual Income</th>\n",
       "      <th>Monthly Debt</th>\n",
       "      <th>Years of Credit History</th>\n",
       "      <th>Months since last delinquent</th>\n",
       "      <th>Number of Open Accounts</th>\n",
       "      <th>Number of Credit Problems</th>\n",
       "      <th>Current Credit Balance</th>\n",
       "      <th>Maximum Open Credit</th>\n",
       "      <th>Bankruptcies</th>\n",
       "      <th>Tax Liens</th>\n",
       "    </tr>\n",
       "  </thead>\n",
       "  <tbody>\n",
       "    <tr>\n",
       "      <th>Current Loan Amount</th>\n",
       "      <td>1.000000</td>\n",
       "      <td>-0.096652</td>\n",
       "      <td>0.013112</td>\n",
       "      <td>-0.006643</td>\n",
       "      <td>0.019282</td>\n",
       "      <td>0.011248</td>\n",
       "      <td>0.001478</td>\n",
       "      <td>-0.002795</td>\n",
       "      <td>0.003880</td>\n",
       "      <td>-0.001271</td>\n",
       "      <td>-0.000608</td>\n",
       "      <td>-0.002048</td>\n",
       "    </tr>\n",
       "    <tr>\n",
       "      <th>Credit Score</th>\n",
       "      <td>-0.096652</td>\n",
       "      <td>1.000000</td>\n",
       "      <td>-0.017078</td>\n",
       "      <td>-0.001674</td>\n",
       "      <td>-0.009720</td>\n",
       "      <td>-0.003739</td>\n",
       "      <td>0.006435</td>\n",
       "      <td>-0.003022</td>\n",
       "      <td>-0.000104</td>\n",
       "      <td>-0.002827</td>\n",
       "      <td>-0.006935</td>\n",
       "      <td>0.005146</td>\n",
       "    </tr>\n",
       "    <tr>\n",
       "      <th>Annual Income</th>\n",
       "      <td>0.013112</td>\n",
       "      <td>-0.017078</td>\n",
       "      <td>1.000000</td>\n",
       "      <td>0.485230</td>\n",
       "      <td>0.161669</td>\n",
       "      <td>-0.077577</td>\n",
       "      <td>0.146175</td>\n",
       "      <td>-0.017006</td>\n",
       "      <td>0.312340</td>\n",
       "      <td>0.053064</td>\n",
       "      <td>-0.047672</td>\n",
       "      <td>0.040167</td>\n",
       "    </tr>\n",
       "    <tr>\n",
       "      <th>Monthly Debt</th>\n",
       "      <td>-0.006643</td>\n",
       "      <td>-0.001674</td>\n",
       "      <td>0.485230</td>\n",
       "      <td>1.000000</td>\n",
       "      <td>0.199289</td>\n",
       "      <td>-0.056818</td>\n",
       "      <td>0.411353</td>\n",
       "      <td>-0.055383</td>\n",
       "      <td>0.481348</td>\n",
       "      <td>0.039268</td>\n",
       "      <td>-0.078979</td>\n",
       "      <td>0.020119</td>\n",
       "    </tr>\n",
       "    <tr>\n",
       "      <th>Years of Credit History</th>\n",
       "      <td>0.019282</td>\n",
       "      <td>-0.009720</td>\n",
       "      <td>0.161669</td>\n",
       "      <td>0.199289</td>\n",
       "      <td>1.000000</td>\n",
       "      <td>-0.044292</td>\n",
       "      <td>0.132349</td>\n",
       "      <td>0.061588</td>\n",
       "      <td>0.208470</td>\n",
       "      <td>0.031124</td>\n",
       "      <td>0.066247</td>\n",
       "      <td>0.017245</td>\n",
       "    </tr>\n",
       "    <tr>\n",
       "      <th>Months since last delinquent</th>\n",
       "      <td>0.011248</td>\n",
       "      <td>-0.003739</td>\n",
       "      <td>-0.077577</td>\n",
       "      <td>-0.056818</td>\n",
       "      <td>-0.044292</td>\n",
       "      <td>1.000000</td>\n",
       "      <td>-0.032569</td>\n",
       "      <td>0.104642</td>\n",
       "      <td>-0.028662</td>\n",
       "      <td>-0.008785</td>\n",
       "      <td>0.123951</td>\n",
       "      <td>0.012624</td>\n",
       "    </tr>\n",
       "    <tr>\n",
       "      <th>Number of Open Accounts</th>\n",
       "      <td>0.001478</td>\n",
       "      <td>0.006435</td>\n",
       "      <td>0.146175</td>\n",
       "      <td>0.411353</td>\n",
       "      <td>0.132349</td>\n",
       "      <td>-0.032569</td>\n",
       "      <td>1.000000</td>\n",
       "      <td>-0.013995</td>\n",
       "      <td>0.228136</td>\n",
       "      <td>0.031341</td>\n",
       "      <td>-0.024575</td>\n",
       "      <td>0.006545</td>\n",
       "    </tr>\n",
       "    <tr>\n",
       "      <th>Number of Credit Problems</th>\n",
       "      <td>-0.002795</td>\n",
       "      <td>-0.003022</td>\n",
       "      <td>-0.017006</td>\n",
       "      <td>-0.055383</td>\n",
       "      <td>0.061588</td>\n",
       "      <td>0.104642</td>\n",
       "      <td>-0.013995</td>\n",
       "      <td>1.000000</td>\n",
       "      <td>-0.112516</td>\n",
       "      <td>-0.012072</td>\n",
       "      <td>0.752942</td>\n",
       "      <td>0.581290</td>\n",
       "    </tr>\n",
       "    <tr>\n",
       "      <th>Current Credit Balance</th>\n",
       "      <td>0.003880</td>\n",
       "      <td>-0.000104</td>\n",
       "      <td>0.312340</td>\n",
       "      <td>0.481348</td>\n",
       "      <td>0.208470</td>\n",
       "      <td>-0.028662</td>\n",
       "      <td>0.228136</td>\n",
       "      <td>-0.112516</td>\n",
       "      <td>1.000000</td>\n",
       "      <td>0.139204</td>\n",
       "      <td>-0.122603</td>\n",
       "      <td>-0.015645</td>\n",
       "    </tr>\n",
       "    <tr>\n",
       "      <th>Maximum Open Credit</th>\n",
       "      <td>-0.001271</td>\n",
       "      <td>-0.002827</td>\n",
       "      <td>0.053064</td>\n",
       "      <td>0.039268</td>\n",
       "      <td>0.031124</td>\n",
       "      <td>-0.008785</td>\n",
       "      <td>0.031341</td>\n",
       "      <td>-0.012072</td>\n",
       "      <td>0.139204</td>\n",
       "      <td>1.000000</td>\n",
       "      <td>-0.014574</td>\n",
       "      <td>-0.001029</td>\n",
       "    </tr>\n",
       "    <tr>\n",
       "      <th>Bankruptcies</th>\n",
       "      <td>-0.000608</td>\n",
       "      <td>-0.006935</td>\n",
       "      <td>-0.047672</td>\n",
       "      <td>-0.078979</td>\n",
       "      <td>0.066247</td>\n",
       "      <td>0.123951</td>\n",
       "      <td>-0.024575</td>\n",
       "      <td>0.752942</td>\n",
       "      <td>-0.122603</td>\n",
       "      <td>-0.014574</td>\n",
       "      <td>1.000000</td>\n",
       "      <td>0.046110</td>\n",
       "    </tr>\n",
       "    <tr>\n",
       "      <th>Tax Liens</th>\n",
       "      <td>-0.002048</td>\n",
       "      <td>0.005146</td>\n",
       "      <td>0.040167</td>\n",
       "      <td>0.020119</td>\n",
       "      <td>0.017245</td>\n",
       "      <td>0.012624</td>\n",
       "      <td>0.006545</td>\n",
       "      <td>0.581290</td>\n",
       "      <td>-0.015645</td>\n",
       "      <td>-0.001029</td>\n",
       "      <td>0.046110</td>\n",
       "      <td>1.000000</td>\n",
       "    </tr>\n",
       "  </tbody>\n",
       "</table>\n",
       "</div>"
      ],
      "text/plain": [
       "                              Current Loan Amount  Credit Score  \\\n",
       "Current Loan Amount                      1.000000     -0.096652   \n",
       "Credit Score                            -0.096652      1.000000   \n",
       "Annual Income                            0.013112     -0.017078   \n",
       "Monthly Debt                            -0.006643     -0.001674   \n",
       "Years of Credit History                  0.019282     -0.009720   \n",
       "Months since last delinquent             0.011248     -0.003739   \n",
       "Number of Open Accounts                  0.001478      0.006435   \n",
       "Number of Credit Problems               -0.002795     -0.003022   \n",
       "Current Credit Balance                   0.003880     -0.000104   \n",
       "Maximum Open Credit                     -0.001271     -0.002827   \n",
       "Bankruptcies                            -0.000608     -0.006935   \n",
       "Tax Liens                               -0.002048      0.005146   \n",
       "\n",
       "                              Annual Income  Monthly Debt  \\\n",
       "Current Loan Amount                0.013112     -0.006643   \n",
       "Credit Score                      -0.017078     -0.001674   \n",
       "Annual Income                      1.000000      0.485230   \n",
       "Monthly Debt                       0.485230      1.000000   \n",
       "Years of Credit History            0.161669      0.199289   \n",
       "Months since last delinquent      -0.077577     -0.056818   \n",
       "Number of Open Accounts            0.146175      0.411353   \n",
       "Number of Credit Problems         -0.017006     -0.055383   \n",
       "Current Credit Balance             0.312340      0.481348   \n",
       "Maximum Open Credit                0.053064      0.039268   \n",
       "Bankruptcies                      -0.047672     -0.078979   \n",
       "Tax Liens                          0.040167      0.020119   \n",
       "\n",
       "                              Years of Credit History  \\\n",
       "Current Loan Amount                          0.019282   \n",
       "Credit Score                                -0.009720   \n",
       "Annual Income                                0.161669   \n",
       "Monthly Debt                                 0.199289   \n",
       "Years of Credit History                      1.000000   \n",
       "Months since last delinquent                -0.044292   \n",
       "Number of Open Accounts                      0.132349   \n",
       "Number of Credit Problems                    0.061588   \n",
       "Current Credit Balance                       0.208470   \n",
       "Maximum Open Credit                          0.031124   \n",
       "Bankruptcies                                 0.066247   \n",
       "Tax Liens                                    0.017245   \n",
       "\n",
       "                              Months since last delinquent  \\\n",
       "Current Loan Amount                               0.011248   \n",
       "Credit Score                                     -0.003739   \n",
       "Annual Income                                    -0.077577   \n",
       "Monthly Debt                                     -0.056818   \n",
       "Years of Credit History                          -0.044292   \n",
       "Months since last delinquent                      1.000000   \n",
       "Number of Open Accounts                          -0.032569   \n",
       "Number of Credit Problems                         0.104642   \n",
       "Current Credit Balance                           -0.028662   \n",
       "Maximum Open Credit                              -0.008785   \n",
       "Bankruptcies                                      0.123951   \n",
       "Tax Liens                                         0.012624   \n",
       "\n",
       "                              Number of Open Accounts  \\\n",
       "Current Loan Amount                          0.001478   \n",
       "Credit Score                                 0.006435   \n",
       "Annual Income                                0.146175   \n",
       "Monthly Debt                                 0.411353   \n",
       "Years of Credit History                      0.132349   \n",
       "Months since last delinquent                -0.032569   \n",
       "Number of Open Accounts                      1.000000   \n",
       "Number of Credit Problems                   -0.013995   \n",
       "Current Credit Balance                       0.228136   \n",
       "Maximum Open Credit                          0.031341   \n",
       "Bankruptcies                                -0.024575   \n",
       "Tax Liens                                    0.006545   \n",
       "\n",
       "                              Number of Credit Problems  \\\n",
       "Current Loan Amount                           -0.002795   \n",
       "Credit Score                                  -0.003022   \n",
       "Annual Income                                 -0.017006   \n",
       "Monthly Debt                                  -0.055383   \n",
       "Years of Credit History                        0.061588   \n",
       "Months since last delinquent                   0.104642   \n",
       "Number of Open Accounts                       -0.013995   \n",
       "Number of Credit Problems                      1.000000   \n",
       "Current Credit Balance                        -0.112516   \n",
       "Maximum Open Credit                           -0.012072   \n",
       "Bankruptcies                                   0.752942   \n",
       "Tax Liens                                      0.581290   \n",
       "\n",
       "                              Current Credit Balance  Maximum Open Credit  \\\n",
       "Current Loan Amount                         0.003880            -0.001271   \n",
       "Credit Score                               -0.000104            -0.002827   \n",
       "Annual Income                               0.312340             0.053064   \n",
       "Monthly Debt                                0.481348             0.039268   \n",
       "Years of Credit History                     0.208470             0.031124   \n",
       "Months since last delinquent               -0.028662            -0.008785   \n",
       "Number of Open Accounts                     0.228136             0.031341   \n",
       "Number of Credit Problems                  -0.112516            -0.012072   \n",
       "Current Credit Balance                      1.000000             0.139204   \n",
       "Maximum Open Credit                         0.139204             1.000000   \n",
       "Bankruptcies                               -0.122603            -0.014574   \n",
       "Tax Liens                                  -0.015645            -0.001029   \n",
       "\n",
       "                              Bankruptcies  Tax Liens  \n",
       "Current Loan Amount              -0.000608  -0.002048  \n",
       "Credit Score                     -0.006935   0.005146  \n",
       "Annual Income                    -0.047672   0.040167  \n",
       "Monthly Debt                     -0.078979   0.020119  \n",
       "Years of Credit History           0.066247   0.017245  \n",
       "Months since last delinquent      0.123951   0.012624  \n",
       "Number of Open Accounts          -0.024575   0.006545  \n",
       "Number of Credit Problems         0.752942   0.581290  \n",
       "Current Credit Balance           -0.122603  -0.015645  \n",
       "Maximum Open Credit              -0.014574  -0.001029  \n",
       "Bankruptcies                      1.000000   0.046110  \n",
       "Tax Liens                         0.046110   1.000000  "
      ]
     },
     "execution_count": 4,
     "metadata": {},
     "output_type": "execute_result"
    }
   ],
   "source": [
    "data.corr()"
   ]
  },
  {
   "cell_type": "code",
   "execution_count": 5,
   "metadata": {},
   "outputs": [
    {
     "name": "stdout",
     "output_type": "stream",
     "text": [
      "<class 'pandas.core.frame.DataFrame'>\n",
      "RangeIndex: 100514 entries, 0 to 100513\n",
      "Data columns (total 19 columns):\n",
      "Loan ID                         100000 non-null object\n",
      "Customer ID                     100000 non-null object\n",
      "Loan Status                     100000 non-null object\n",
      "Current Loan Amount             100000 non-null float64\n",
      "Term                            100000 non-null object\n",
      "Credit Score                    80846 non-null float64\n",
      "Annual Income                   80846 non-null float64\n",
      "Years in current job            95778 non-null object\n",
      "Home Ownership                  100000 non-null object\n",
      "Purpose                         100000 non-null object\n",
      "Monthly Debt                    100000 non-null float64\n",
      "Years of Credit History         100000 non-null float64\n",
      "Months since last delinquent    46859 non-null float64\n",
      "Number of Open Accounts         100000 non-null float64\n",
      "Number of Credit Problems       100000 non-null float64\n",
      "Current Credit Balance          100000 non-null float64\n",
      "Maximum Open Credit             99998 non-null float64\n",
      "Bankruptcies                    99796 non-null float64\n",
      "Tax Liens                       99990 non-null float64\n",
      "dtypes: float64(12), object(7)\n",
      "memory usage: 14.6+ MB\n"
     ]
    }
   ],
   "source": [
    "data.info()"
   ]
  },
  {
   "cell_type": "code",
   "execution_count": 6,
   "metadata": {},
   "outputs": [
    {
     "data": {
      "text/plain": [
       "Index(['Loan ID', 'Customer ID', 'Loan Status', 'Current Loan Amount', 'Term',\n",
       "       'Credit Score', 'Annual Income', 'Years in current job',\n",
       "       'Home Ownership', 'Purpose', 'Monthly Debt', 'Years of Credit History',\n",
       "       'Months since last delinquent', 'Number of Open Accounts',\n",
       "       'Number of Credit Problems', 'Current Credit Balance',\n",
       "       'Maximum Open Credit', 'Bankruptcies', 'Tax Liens'],\n",
       "      dtype='object')"
      ]
     },
     "execution_count": 6,
     "metadata": {},
     "output_type": "execute_result"
    }
   ],
   "source": [
    "data.columns"
   ]
  },
  {
   "cell_type": "code",
   "execution_count": 7,
   "metadata": {},
   "outputs": [
    {
     "data": {
      "text/plain": [
       "<matplotlib.axes._subplots.AxesSubplot at 0x59f82d9a58>"
      ]
     },
     "execution_count": 7,
     "metadata": {},
     "output_type": "execute_result"
    },
    {
     "data": {
      "image/png": "[encoded data removed]",
      "text/plain": [
       "<Figure size 1440x576 with 1 Axes>"
      ]
     },
     "metadata": {
      "needs_background": "light"
     },
     "output_type": "display_data"
    }
   ],
   "source": [
    "#checking the null values in the data\n",
    "plt.figure(figsize=(20,8))\n",
    "sns.heatmap(data.isnull(),cbar=False,cmap='magma',yticklabels=False)"
   ]
  },
  {
   "cell_type": "code",
   "execution_count": 8,
   "metadata": {},
   "outputs": [
    {
     "data": {
      "text/plain": [
       "<matplotlib.axes._subplots.AxesSubplot at 0x59f904dd30>"
      ]
     },
     "execution_count": 8,
     "metadata": {},
     "output_type": "execute_result"
    },
    {
     "data": {
      "image/png": "[encoded data removed]",
      "text/plain": [
       "<Figure size 1440x576 with 2 Axes>"
      ]
     },
     "metadata": {
      "needs_background": "light"
     },
     "output_type": "display_data"
    }
   ],
   "source": [
    "#visualizing the corelation between the variables in our dataset\n",
    "plt.figure(figsize=(20,8))\n",
    "sns.heatmap(data.corr(),cmap='magma',annot=True)"
   ]
  },
  {
   "cell_type": "code",
   "execution_count": 9,
   "metadata": {},
   "outputs": [],
   "source": [
    "#Droping this columns as we don't need them\n",
    "data.drop(['Loan ID','Customer ID'],axis=1,inplace=True)"
   ]
  },
  {
   "cell_type": "code",
   "execution_count": 10,
   "metadata": {},
   "outputs": [],
   "source": [
    "#droping those columns where the loan ststus in not specified\n",
    "data.drop(data[data['Loan Status'].isnull()==True].index,inplace=True)"
   ]
  },
  {
   "cell_type": "code",
   "execution_count": null,
   "metadata": {},
   "outputs": [],
   "source": []
  },
  {
   "cell_type": "code",
   "execution_count": null,
   "metadata": {},
   "outputs": [],
   "source": []
  },
  {
   "cell_type": "code",
   "execution_count": 11,
   "metadata": {},
   "outputs": [
    {
     "data": {
      "text/plain": [
       "2647017186"
      ]
     },
     "execution_count": 11,
     "metadata": {},
     "output_type": "execute_result"
    }
   ],
   "source": [
    "#checking null values for various independent variables and then handling them accordingly\n",
    "np.sum(data[data['Months since last delinquent'].isnull()==True].index)"
   ]
  },
  {
   "cell_type": "code",
   "execution_count": 12,
   "metadata": {},
   "outputs": [],
   "source": [
    "data.drop('Months since last delinquent',inplace=True,axis=1)"
   ]
  },
  {
   "cell_type": "code",
   "execution_count": 13,
   "metadata": {},
   "outputs": [
    {
     "data": {
      "text/plain": [
       "Int64Index([9632, 10546, 19274, 20727, 28595, 28811, 43369, 46430, 57336,\n",
       "            86062],\n",
       "           dtype='int64')"
      ]
     },
     "execution_count": 13,
     "metadata": {},
     "output_type": "execute_result"
    }
   ],
   "source": [
    "data[data['Tax Liens'].isnull()==True].index"
   ]
  },
  {
   "cell_type": "code",
   "execution_count": 14,
   "metadata": {},
   "outputs": [],
   "source": [
    "data.drop(data[data['Tax Liens'].isnull()==True].index,inplace=True)"
   ]
  },
  {
   "cell_type": "code",
   "execution_count": 15,
   "metadata": {},
   "outputs": [
    {
     "data": {
      "text/plain": [
       "Int64Index([  905,  1699,  1995,  3462,  4587,  4690,  5920,  6074,  6173,\n",
       "             6749,\n",
       "            ...\n",
       "            95865, 96429, 96768, 97469, 97650, 98675, 99327, 99407, 99413,\n",
       "            99497],\n",
       "           dtype='int64', length=194)"
      ]
     },
     "execution_count": 15,
     "metadata": {},
     "output_type": "execute_result"
    }
   ],
   "source": [
    "data[data['Bankruptcies'].isnull()==True].index"
   ]
  },
  {
   "cell_type": "code",
   "execution_count": 16,
   "metadata": {},
   "outputs": [],
   "source": [
    "data.drop(data[data['Bankruptcies'].isnull()==True].index,inplace=True)"
   ]
  },
  {
   "cell_type": "code",
   "execution_count": 17,
   "metadata": {},
   "outputs": [
    {
     "name": "stdout",
     "output_type": "stream",
     "text": [
      "<class 'pandas.core.frame.DataFrame'>\n",
      "Int64Index: 99796 entries, 0 to 99999\n",
      "Data columns (total 16 columns):\n",
      "Loan Status                  99796 non-null object\n",
      "Current Loan Amount          99796 non-null float64\n",
      "Term                         99796 non-null object\n",
      "Credit Score                 80684 non-null float64\n",
      "Annual Income                80684 non-null float64\n",
      "Years in current job         95574 non-null object\n",
      "Home Ownership               99796 non-null object\n",
      "Purpose                      99796 non-null object\n",
      "Monthly Debt                 99796 non-null float64\n",
      "Years of Credit History      99796 non-null float64\n",
      "Number of Open Accounts      99796 non-null float64\n",
      "Number of Credit Problems    99796 non-null float64\n",
      "Current Credit Balance       99796 non-null float64\n",
      "Maximum Open Credit          99794 non-null float64\n",
      "Bankruptcies                 99796 non-null float64\n",
      "Tax Liens                    99796 non-null float64\n",
      "dtypes: float64(11), object(5)\n",
      "memory usage: 12.9+ MB\n"
     ]
    }
   ],
   "source": [
    "data.info()"
   ]
  },
  {
   "cell_type": "code",
   "execution_count": 18,
   "metadata": {},
   "outputs": [],
   "source": [
    "#as credit score for some records is greater than 850,so we apply a lambda function which divides the values greater than 850 by 10\n",
    "data[data['Credit Score']>850]\n",
    "data['Credit Score'] = data['Credit Score'].apply(lambda x: (x /10) if x>850 else x)"
   ]
  },
  {
   "cell_type": "code",
   "execution_count": 19,
   "metadata": {},
   "outputs": [
    {
     "data": {
      "text/html": [
       "<div>\n",
       "<style scoped>\n",
       "    .dataframe tbody tr th:only-of-type {\n",
       "        vertical-align: middle;\n",
       "    }\n",
       "\n",
       "    .dataframe tbody tr th {\n",
       "        vertical-align: top;\n",
       "    }\n",
       "\n",
       "    .dataframe thead th {\n",
       "        text-align: right;\n",
       "    }\n",
       "</style>\n",
       "<table border=\"1\" class=\"dataframe\">\n",
       "  <thead>\n",
       "    <tr style=\"text-align: right;\">\n",
       "      <th></th>\n",
       "      <th>Loan Status</th>\n",
       "      <th>Current Loan Amount</th>\n",
       "      <th>Term</th>\n",
       "      <th>Credit Score</th>\n",
       "      <th>Annual Income</th>\n",
       "      <th>Years in current job</th>\n",
       "      <th>Home Ownership</th>\n",
       "      <th>Purpose</th>\n",
       "      <th>Monthly Debt</th>\n",
       "      <th>Years of Credit History</th>\n",
       "      <th>Number of Open Accounts</th>\n",
       "      <th>Number of Credit Problems</th>\n",
       "      <th>Current Credit Balance</th>\n",
       "      <th>Maximum Open Credit</th>\n",
       "      <th>Bankruptcies</th>\n",
       "      <th>Tax Liens</th>\n",
       "    </tr>\n",
       "  </thead>\n",
       "  <tbody>\n",
       "  </tbody>\n",
       "</table>\n",
       "</div>"
      ],
      "text/plain": [
       "Empty DataFrame\n",
       "Columns: [Loan Status, Current Loan Amount, Term, Credit Score, Annual Income, Years in current job, Home Ownership, Purpose, Monthly Debt, Years of Credit History, Number of Open Accounts, Number of Credit Problems, Current Credit Balance, Maximum Open Credit, Bankruptcies, Tax Liens]\n",
       "Index: []"
      ]
     },
     "execution_count": 19,
     "metadata": {},
     "output_type": "execute_result"
    }
   ],
   "source": [
    "data[data['Credit Score']>850]"
   ]
  },
  {
   "cell_type": "code",
   "execution_count": 20,
   "metadata": {},
   "outputs": [],
   "source": [
    "#Handling null values of credit score by replacing it with their mean\n",
    "data['Credit Score']=data['Credit Score'].fillna(data['Credit Score'].mean())"
   ]
  },
  {
   "cell_type": "code",
   "execution_count": 21,
   "metadata": {},
   "outputs": [
    {
     "data": {
      "text/plain": [
       "<matplotlib.axes._subplots.AxesSubplot at 0x59f665d2e8>"
      ]
     },
     "execution_count": 21,
     "metadata": {},
     "output_type": "execute_result"
    },
    {
     "data": {
      "image/png": "[encoded data removed]",
      "text/plain": [
       "<Figure size 720x360 with 1 Axes>"
      ]
     },
     "metadata": {
      "needs_background": "light"
     },
     "output_type": "display_data"
    }
   ],
   "source": [
    "#here we can see that most of people have 10+ years in their job,so we replace the null entries with 10+ years\n",
    "plt.figure(figsize=(10,5))\n",
    "sns.countplot(data['Years in current job'])"
   ]
  },
  {
   "cell_type": "code",
   "execution_count": 22,
   "metadata": {},
   "outputs": [],
   "source": [
    "data['Years in current job']=data[\"Years in current job\"].fillna('10+ years')"
   ]
  },
  {
   "cell_type": "code",
   "execution_count": 23,
   "metadata": {},
   "outputs": [],
   "source": [
    "#filling the null values of annual income by the man of that column\n",
    "data[\"Annual Income\"]=data[\"Annual Income\"].fillna(data['Annual Income'].mean())"
   ]
  },
  {
   "cell_type": "code",
   "execution_count": 24,
   "metadata": {},
   "outputs": [],
   "source": [
    "data['Maximum Open Credit']=data['Maximum Open Credit'].fillna(data['Maximum Open Credit'].mean())"
   ]
  },
  {
   "cell_type": "code",
   "execution_count": 25,
   "metadata": {},
   "outputs": [
    {
     "data": {
      "text/plain": [
       "Index(['Loan Status', 'Current Loan Amount', 'Term', 'Credit Score',\n",
       "       'Annual Income', 'Years in current job', 'Home Ownership', 'Purpose',\n",
       "       'Monthly Debt', 'Years of Credit History', 'Number of Open Accounts',\n",
       "       'Number of Credit Problems', 'Current Credit Balance',\n",
       "       'Maximum Open Credit', 'Bankruptcies', 'Tax Liens'],\n",
       "      dtype='object')"
      ]
     },
     "execution_count": 25,
     "metadata": {},
     "output_type": "execute_result"
    }
   ],
   "source": [
    "data.columns"
   ]
  },
  {
   "cell_type": "code",
   "execution_count": 26,
   "metadata": {},
   "outputs": [
    {
     "data": {
      "text/plain": [
       "<matplotlib.axes._subplots.AxesSubplot at 0x5980e257f0>"
      ]
     },
     "execution_count": 26,
     "metadata": {},
     "output_type": "execute_result"
    },
    {
     "data": {
      "image/png": "[encoded data removed]",
      "text/plain": [
       "<Figure size 1440x576 with 1 Axes>"
      ]
     },
     "metadata": {
      "needs_background": "light"
     },
     "output_type": "display_data"
    }
   ],
   "source": [
    "#checking the null values in the data\n",
    "plt.figure(figsize=(20,8))\n",
    "sns.heatmap(data.isnull(),cbar=False,cmap='magma',yticklabels=False)"
   ]
  },
  {
   "cell_type": "code",
   "execution_count": 27,
   "metadata": {},
   "outputs": [
    {
     "data": {
      "text/plain": [
       "<matplotlib.axes._subplots.AxesSubplot at 0x5980e85470>"
      ]
     },
     "execution_count": 27,
     "metadata": {},
     "output_type": "execute_result"
    },
    {
     "data": {
      "image/png": "[encoded data removed]",
      "text/plain": [
       "<Figure size 1440x720 with 1 Axes>"
      ]
     },
     "metadata": {
      "needs_background": "light"
     },
     "output_type": "display_data"
    }
   ],
   "source": [
    "#checking the purpose of why people took the loan\n",
    "plt.figure(figsize=(20,10))\n",
    "sns.countplot(data['Purpose'],hue=data['Loan Status'])"
   ]
  },
  {
   "cell_type": "code",
   "execution_count": 28,
   "metadata": {},
   "outputs": [],
   "source": [
    "#Encoding the years in job column\n",
    "from sklearn.preprocessing import LabelEncoder\n",
    "lbc=LabelEncoder()\n",
    "data['Years in current job']=lbc.fit_transform(data['Years in current job'])"
   ]
  },
  {
   "cell_type": "code",
   "execution_count": 29,
   "metadata": {},
   "outputs": [],
   "source": [
    "\n",
    "#Converting the term,purpose,Home ownership to dummy variables\n",
    "list_to_dummies=data[['Term','Purpose','Home Ownership']]\n",
    "dummies=pd.get_dummies(list_to_dummies)\n",
    "data=pd.concat([data,dummies],axis=1)"
   ]
  },
  {
   "cell_type": "code",
   "execution_count": 30,
   "metadata": {},
   "outputs": [],
   "source": [
    "data.drop(list_to_dummies,inplace=True,axis=1)"
   ]
  },
  {
   "cell_type": "code",
   "execution_count": 31,
   "metadata": {},
   "outputs": [],
   "source": [
    "#This is out dependent variable i.e. the variable to predict\n",
    "y=pd.DataFrame(data['Loan Status'])"
   ]
  },
  {
   "cell_type": "code",
   "execution_count": 32,
   "metadata": {},
   "outputs": [],
   "source": [
    "data.drop('Loan Status',inplace=True,axis=1)"
   ]
  },
  {
   "cell_type": "code",
   "execution_count": 33,
   "metadata": {},
   "outputs": [],
   "source": [
    "X=data"
   ]
  },
  {
   "cell_type": "code",
   "execution_count": null,
   "metadata": {},
   "outputs": [],
   "source": []
  },
  {
   "cell_type": "code",
   "execution_count": 34,
   "metadata": {},
   "outputs": [
    {
     "name": "stdout",
     "output_type": "stream",
     "text": [
      "[1 1 1 ... 1 1 1]\n"
     ]
    },
    {
     "name": "stderr",
     "output_type": "stream",
     "text": [
      "C:\\ProgramData\\Anaconda3\\lib\\site-packages\\sklearn\\preprocessing\\label.py:235: DataConversionWarning: A column-vector y was passed when a 1d array was expected. Please change the shape of y to (n_samples, ), for example using ravel().\n",
      "  y = column_or_1d(y, warn=True)\n"
     ]
    }
   ],
   "source": [
    "#as our target variables is string , so we will use label encoder to covert it to 1 and 0\n",
    "from sklearn.preprocessing import LabelEncoder\n",
    "lbc=LabelEncoder()\n",
    "y=lbc.fit_transform(y)\n",
    "print(y)"
   ]
  },
  {
   "cell_type": "code",
   "execution_count": 35,
   "metadata": {},
   "outputs": [],
   "source": [
    "from sklearn.preprocessing import StandardScaler\n",
    "scx=StandardScaler()"
   ]
  },
  {
   "cell_type": "code",
   "execution_count": 36,
   "metadata": {},
   "outputs": [],
   "source": [
    "#Splitting the data into training and testing set\n",
    "from sklearn.model_selection import train_test_split\n",
    "X_train, X_test, y_train, y_test = train_test_split(X, y, test_size=0.2)"
   ]
  },
  {
   "cell_type": "code",
   "execution_count": 51,
   "metadata": {},
   "outputs": [],
   "source": [
    "#importing all our models to predict the joke ratings\n",
    "from sklearn.linear_model import LogisticRegression\n",
    "from sklearn.tree import DecisionTreeClassifier\n",
    "from sklearn.ensemble import RandomForestClassifier"
   ]
  },
  {
   "cell_type": "code",
   "execution_count": 52,
   "metadata": {},
   "outputs": [],
   "source": [
    "lr=LogisticRegression()\n",
    "rd=RandomForestClassifier(n_estimators = 100, oob_score = True, n_jobs = -1,max_features = \"auto\", min_samples_leaf = 10)\n",
    "dt=DecisionTreeClassifier()\n"
   ]
  },
  {
   "cell_type": "code",
   "execution_count": 54,
   "metadata": {},
   "outputs": [
    {
     "name": "stderr",
     "output_type": "stream",
     "text": [
      "C:\\ProgramData\\Anaconda3\\lib\\site-packages\\sklearn\\linear_model\\logistic.py:432: FutureWarning: Default solver will be changed to 'lbfgs' in 0.22. Specify a solver to silence this warning.\n",
      "  FutureWarning)\n"
     ]
    },
    {
     "data": {
      "text/plain": [
       "DecisionTreeClassifier(class_weight=None, criterion='gini', max_depth=None,\n",
       "                       max_features=None, max_leaf_nodes=None,\n",
       "                       min_impurity_decrease=0.0, min_impurity_split=None,\n",
       "                       min_samples_leaf=1, min_samples_split=2,\n",
       "                       min_weight_fraction_leaf=0.0, presort=False,\n",
       "                       random_state=None, splitter='best')"
      ]
     },
     "execution_count": 54,
     "metadata": {},
     "output_type": "execute_result"
    }
   ],
   "source": [
    "#training our models\n",
    "lr.fit(X_train,y_train)\n",
    "rd.fit(X_train,y_train)\n",
    "dt.fit(X_train,y_train)\n"
   ]
  },
  {
   "cell_type": "code",
   "execution_count": 55,
   "metadata": {},
   "outputs": [],
   "source": [
    "#Predicting the rating of the testing set\n",
    "lrp=lr.predict(X_test)\n",
    "rdp=rd.predict(X_test)\n",
    "dtp=dt.predict(X_test)\n",
    "\n"
   ]
  },
  {
   "cell_type": "code",
   "execution_count": null,
   "metadata": {},
   "outputs": [],
   "source": []
  },
  {
   "cell_type": "code",
   "execution_count": 57,
   "metadata": {},
   "outputs": [],
   "source": [
    "#we will use classification report and confusion matrix as our evalution criteria\n",
    "from sklearn.metrics import classification_report,confusion_matrix"
   ]
  },
  {
   "cell_type": "code",
   "execution_count": 58,
   "metadata": {},
   "outputs": [
    {
     "name": "stdout",
     "output_type": "stream",
     "text": [
      "Using logistic regression\n",
      "              precision    recall  f1-score   support\n",
      "\n",
      "           0       1.00      0.00      0.00      4490\n",
      "           1       0.78      1.00      0.87     15470\n",
      "\n",
      "    accuracy                           0.78     19960\n",
      "   macro avg       0.89      0.50      0.44     19960\n",
      "weighted avg       0.83      0.78      0.68     19960\n",
      "\n"
     ]
    }
   ],
   "source": [
    "print('Using logistic regression\\n'+classification_report(y_test,lrp))\n",
    "\n",
    "\n"
   ]
  },
  {
   "cell_type": "code",
   "execution_count": 59,
   "metadata": {},
   "outputs": [
    {
     "name": "stdout",
     "output_type": "stream",
     "text": [
      "Using random forest algorithm\n",
      "              precision    recall  f1-score   support\n",
      "\n",
      "           0       0.62      0.01      0.02      4490\n",
      "           1       0.78      1.00      0.87     15470\n",
      "\n",
      "    accuracy                           0.78     19960\n",
      "   macro avg       0.70      0.50      0.45     19960\n",
      "weighted avg       0.74      0.78      0.68     19960\n",
      "\n"
     ]
    }
   ],
   "source": [
    "print('Using random forest algorithm\\n'+classification_report(y_test,rdp))"
   ]
  },
  {
   "cell_type": "code",
   "execution_count": 60,
   "metadata": {},
   "outputs": [
    {
     "name": "stdout",
     "output_type": "stream",
     "text": [
      "Using decision tree algorithm\n",
      "              precision    recall  f1-score   support\n",
      "\n",
      "           0       0.36      0.34      0.35      4490\n",
      "           1       0.81      0.82      0.82     15470\n",
      "\n",
      "    accuracy                           0.72     19960\n",
      "   macro avg       0.59      0.58      0.59     19960\n",
      "weighted avg       0.71      0.72      0.71     19960\n",
      "\n"
     ]
    }
   ],
   "source": [
    "print('Using decision tree algorithm\\n'+classification_report(y_test,dtp))"
   ]
  },
  {
   "cell_type": "code",
   "execution_count": null,
   "metadata": {},
   "outputs": [],
   "source": []
  },
  {
   "cell_type": "code",
   "execution_count": null,
   "metadata": {},
   "outputs": [],
   "source": []
  },
  {
   "cell_type": "code",
   "execution_count": null,
   "metadata": {},
   "outputs": [],
   "source": []
  },
  {
   "cell_type": "code",
   "execution_count": null,
   "metadata": {},
   "outputs": [],
   "source": []
  },
  {
   "cell_type": "code",
   "execution_count": null,
   "metadata": {},
   "outputs": [],
   "source": []
  },
  {
   "cell_type": "code",
   "execution_count": null,
   "metadata": {},
   "outputs": [],
   "source": []
  },
  {
   "cell_type": "code",
   "execution_count": null,
   "metadata": {},
   "outputs": [],
   "source": []
  },
  {
   "cell_type": "code",
   "execution_count": null,
   "metadata": {},
   "outputs": [],
   "source": []
  },
  {
   "cell_type": "code",
   "execution_count": null,
   "metadata": {},
   "outputs": [],
   "source": []
  },
  {
   "cell_type": "code",
   "execution_count": null,
   "metadata": {},
   "outputs": [],
   "source": []
  }
 ],
 "metadata": {
  "kernelspec": {
   "display_name": "Python 3",
   "language": "python",
   "name": "python3"
  },
  "language_info": {
   "codemirror_mode": {
    "name": "ipython",
    "version": 3
   },
   "file_extension": ".py",
   "mimetype": "text/x-python",
   "name": "python",
   "nbconvert_exporter": "python",
   "pygments_lexer": "ipython3",
   "version": "3.7.3"
  }
 },
 "nbformat": 4,
 "nbformat_minor": 2
}
